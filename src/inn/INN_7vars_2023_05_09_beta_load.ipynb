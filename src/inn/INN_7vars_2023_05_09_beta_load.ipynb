{
 "cells": [
  {
   "cell_type": "code",
   "execution_count": 1,
   "metadata": {},
   "outputs": [],
   "source": [
    "import numpy as np\n",
    "from matplotlib import pyplot as plt"
   ]
  },
  {
   "cell_type": "code",
   "execution_count": 2,
   "metadata": {},
   "outputs": [],
   "source": [
    "import pickle\n",
    "import torch"
   ]
  },
  {
   "cell_type": "code",
   "execution_count": 3,
   "metadata": {},
   "outputs": [],
   "source": [
    "mpath = \"models/2023_05_05_inn_0001/\"\n",
    "mpath = \"models/2023_05_05_inn_0002/\"\n",
    "mpath = \"models/2023_05_05_inn_0003/\"\n",
    "\n",
    "device = torch.device(\"cuda:0\" if torch.cuda.is_available() else \"cpu\")\n",
    "device = \"cpu\"\n",
    "inn = pickle.load(open(mpath+\"parameters_obj.pkl\", 'rb'))\n",
    "\n",
    "inn.set_device(device)\n",
    "\n",
    "inn.loadmodel(mpath+\"model_state_dict.pt\")\n"
   ]
  },
  {
   "cell_type": "code",
   "execution_count": 4,
   "metadata": {},
   "outputs": [
    {
     "data": {
      "text/plain": [
       "<functions.inn.inn at 0x7f7f9023cbb0>"
      ]
     },
     "execution_count": 4,
     "metadata": {},
     "output_type": "execute_result"
    }
   ],
   "source": [
    "inn"
   ]
  },
  {
   "attachments": {},
   "cell_type": "markdown",
   "metadata": {},
   "source": [
    "# Load experimental data"
   ]
  },
  {
   "cell_type": "code",
   "execution_count": 5,
   "metadata": {},
   "outputs": [],
   "source": [
    "'''Example of experimental data\n",
    "\n",
    "Frequency[Hz]\tExperimental\n",
    "\n",
    "81.250\t0.24965\n",
    "82.812\t0.26412\n",
    "84.375\t0.28639\n",
    "85.937\t0.29087\n",
    "87.500\t0.28303\n",
    "89.062\t0.29861\n",
    "\n",
    "'''\n",
    "file_name_exp = \"data/abs.txt\"\n",
    "exp_data = np.loadtxt(file_name_exp,skiprows=1)\n",
    "\n",
    "# interpolate experimental data in frequency domain\n",
    "f_exp = exp_data[:,0]\n",
    "y_exp = exp_data[:,1]\n"
   ]
  },
  {
   "attachments": {},
   "cell_type": "markdown",
   "metadata": {},
   "source": [
    "### Interpolate data in frequency domain given by:  `params[\"data\"][\"f\"]`"
   ]
  },
  {
   "cell_type": "code",
   "execution_count": 6,
   "metadata": {},
   "outputs": [
    {
     "name": "stderr",
     "output_type": "stream",
     "text": [
      "/tmp/ipykernel_1834617/1543485559.py:1: DeprecationWarning: Please use `gaussian_filter1d` from the `scipy.ndimage` namespace, the `scipy.ndimage.filters` namespace is deprecated.\n",
      "  from scipy.ndimage.filters import gaussian_filter1d\n"
     ]
    }
   ],
   "source": [
    "from scipy.ndimage.filters import gaussian_filter1d\n"
   ]
  },
  {
   "cell_type": "code",
   "execution_count": 7,
   "metadata": {},
   "outputs": [],
   "source": [
    "\n",
    "f_exp_interp = inn.get_freq()\n",
    "y_exp_interp = np.interp(f_exp_interp,f_exp,y_exp)\n",
    "# smooth experimental data\n",
    "y_exp_interp = gaussian_filter1d(y_exp_interp, sigma=0.5)"
   ]
  },
  {
   "cell_type": "code",
   "execution_count": 8,
   "metadata": {},
   "outputs": [],
   "source": [
    "rev_x,y_matrix_rev = inn.rev(y_exp_interp,10000)"
   ]
  },
  {
   "cell_type": "code",
   "execution_count": 9,
   "metadata": {},
   "outputs": [
    {
     "data": {
      "text/plain": [
       "(10000, 7)"
      ]
     },
     "execution_count": 9,
     "metadata": {},
     "output_type": "execute_result"
    }
   ],
   "source": [
    "rev_x.shape"
   ]
  },
  {
   "cell_type": "code",
   "execution_count": 9,
   "metadata": {},
   "outputs": [],
   "source": [
    "df = inn.numpy_to_dataframe(rev_x)"
   ]
  },
  {
   "cell_type": "code",
   "execution_count": 10,
   "metadata": {},
   "outputs": [
    {
     "data": {
      "text/html": [
       "<div>\n",
       "<style scoped>\n",
       "    .dataframe tbody tr th:only-of-type {\n",
       "        vertical-align: middle;\n",
       "    }\n",
       "\n",
       "    .dataframe tbody tr th {\n",
       "        vertical-align: top;\n",
       "    }\n",
       "\n",
       "    .dataframe thead th {\n",
       "        text-align: right;\n",
       "    }\n",
       "</style>\n",
       "<table border=\"1\" class=\"dataframe\">\n",
       "  <thead>\n",
       "    <tr style=\"text-align: right;\">\n",
       "      <th></th>\n",
       "      <th>LT/LV</th>\n",
       "      <th>LCT</th>\n",
       "      <th>tort</th>\n",
       "      <th>sig</th>\n",
       "      <th>porous</th>\n",
       "      <th>rho</th>\n",
       "      <th>E</th>\n",
       "    </tr>\n",
       "  </thead>\n",
       "  <tbody>\n",
       "    <tr>\n",
       "      <th>0</th>\n",
       "      <td>2.674873</td>\n",
       "      <td>0.000273</td>\n",
       "      <td>6.649793</td>\n",
       "      <td>45445.175391</td>\n",
       "      <td>0.919381</td>\n",
       "      <td>211.803501</td>\n",
       "      <td>1.155490e+10</td>\n",
       "    </tr>\n",
       "    <tr>\n",
       "      <th>1</th>\n",
       "      <td>2.538472</td>\n",
       "      <td>0.000200</td>\n",
       "      <td>6.418400</td>\n",
       "      <td>49674.642779</td>\n",
       "      <td>0.891688</td>\n",
       "      <td>261.097180</td>\n",
       "      <td>8.174901e+10</td>\n",
       "    </tr>\n",
       "    <tr>\n",
       "      <th>2</th>\n",
       "      <td>2.905579</td>\n",
       "      <td>0.000221</td>\n",
       "      <td>6.064749</td>\n",
       "      <td>46817.217377</td>\n",
       "      <td>0.913077</td>\n",
       "      <td>317.403056</td>\n",
       "      <td>1.926320e+10</td>\n",
       "    </tr>\n",
       "    <tr>\n",
       "      <th>3</th>\n",
       "      <td>2.749442</td>\n",
       "      <td>0.000247</td>\n",
       "      <td>6.538896</td>\n",
       "      <td>49663.643080</td>\n",
       "      <td>0.910247</td>\n",
       "      <td>203.395949</td>\n",
       "      <td>8.940969e+10</td>\n",
       "    </tr>\n",
       "    <tr>\n",
       "      <th>4</th>\n",
       "      <td>2.564647</td>\n",
       "      <td>0.000215</td>\n",
       "      <td>6.294185</td>\n",
       "      <td>47832.396646</td>\n",
       "      <td>0.889877</td>\n",
       "      <td>228.603212</td>\n",
       "      <td>7.150324e+10</td>\n",
       "    </tr>\n",
       "    <tr>\n",
       "      <th>...</th>\n",
       "      <td>...</td>\n",
       "      <td>...</td>\n",
       "      <td>...</td>\n",
       "      <td>...</td>\n",
       "      <td>...</td>\n",
       "      <td>...</td>\n",
       "      <td>...</td>\n",
       "    </tr>\n",
       "    <tr>\n",
       "      <th>9995</th>\n",
       "      <td>2.016686</td>\n",
       "      <td>0.000260</td>\n",
       "      <td>6.969886</td>\n",
       "      <td>50279.045265</td>\n",
       "      <td>0.898249</td>\n",
       "      <td>195.298004</td>\n",
       "      <td>8.903011e+10</td>\n",
       "    </tr>\n",
       "    <tr>\n",
       "      <th>9996</th>\n",
       "      <td>2.181406</td>\n",
       "      <td>0.000292</td>\n",
       "      <td>7.025831</td>\n",
       "      <td>48603.372107</td>\n",
       "      <td>0.901313</td>\n",
       "      <td>173.875126</td>\n",
       "      <td>3.047941e+10</td>\n",
       "    </tr>\n",
       "    <tr>\n",
       "      <th>9997</th>\n",
       "      <td>2.570391</td>\n",
       "      <td>0.000199</td>\n",
       "      <td>6.498661</td>\n",
       "      <td>50917.414659</td>\n",
       "      <td>0.900245</td>\n",
       "      <td>275.890811</td>\n",
       "      <td>1.527205e+10</td>\n",
       "    </tr>\n",
       "    <tr>\n",
       "      <th>9998</th>\n",
       "      <td>2.810326</td>\n",
       "      <td>0.000223</td>\n",
       "      <td>6.272383</td>\n",
       "      <td>50134.701967</td>\n",
       "      <td>0.894381</td>\n",
       "      <td>218.788423</td>\n",
       "      <td>8.708230e+10</td>\n",
       "    </tr>\n",
       "    <tr>\n",
       "      <th>9999</th>\n",
       "      <td>2.473792</td>\n",
       "      <td>0.000283</td>\n",
       "      <td>6.742550</td>\n",
       "      <td>46855.756089</td>\n",
       "      <td>0.916452</td>\n",
       "      <td>261.764142</td>\n",
       "      <td>3.214772e+10</td>\n",
       "    </tr>\n",
       "  </tbody>\n",
       "</table>\n",
       "<p>10000 rows × 7 columns</p>\n",
       "</div>"
      ],
      "text/plain": [
       "         LT/LV       LCT      tort           sig    porous         rho  \\\n",
       "0     2.674873  0.000273  6.649793  45445.175391  0.919381  211.803501   \n",
       "1     2.538472  0.000200  6.418400  49674.642779  0.891688  261.097180   \n",
       "2     2.905579  0.000221  6.064749  46817.217377  0.913077  317.403056   \n",
       "3     2.749442  0.000247  6.538896  49663.643080  0.910247  203.395949   \n",
       "4     2.564647  0.000215  6.294185  47832.396646  0.889877  228.603212   \n",
       "...        ...       ...       ...           ...       ...         ...   \n",
       "9995  2.016686  0.000260  6.969886  50279.045265  0.898249  195.298004   \n",
       "9996  2.181406  0.000292  7.025831  48603.372107  0.901313  173.875126   \n",
       "9997  2.570391  0.000199  6.498661  50917.414659  0.900245  275.890811   \n",
       "9998  2.810326  0.000223  6.272383  50134.701967  0.894381  218.788423   \n",
       "9999  2.473792  0.000283  6.742550  46855.756089  0.916452  261.764142   \n",
       "\n",
       "                 E  \n",
       "0     1.155490e+10  \n",
       "1     8.174901e+10  \n",
       "2     1.926320e+10  \n",
       "3     8.940969e+10  \n",
       "4     7.150324e+10  \n",
       "...            ...  \n",
       "9995  8.903011e+10  \n",
       "9996  3.047941e+10  \n",
       "9997  1.527205e+10  \n",
       "9998  8.708230e+10  \n",
       "9999  3.214772e+10  \n",
       "\n",
       "[10000 rows x 7 columns]"
      ]
     },
     "execution_count": 10,
     "metadata": {},
     "output_type": "execute_result"
    }
   ],
   "source": [
    "df"
   ]
  },
  {
   "cell_type": "code",
   "execution_count": null,
   "metadata": {},
   "outputs": [],
   "source": []
  }
 ],
 "metadata": {
  "kernelspec": {
   "display_name": "Python 3",
   "language": "python",
   "name": "python3"
  },
  "language_info": {
   "codemirror_mode": {
    "name": "ipython",
    "version": 3
   },
   "file_extension": ".py",
   "mimetype": "text/x-python",
   "name": "python",
   "nbconvert_exporter": "python",
   "pygments_lexer": "ipython3",
   "version": "3.9.16"
  },
  "orig_nbformat": 4
 },
 "nbformat": 4,
 "nbformat_minor": 2
}
