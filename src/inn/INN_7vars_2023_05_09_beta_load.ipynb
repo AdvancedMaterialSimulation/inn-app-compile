{
 "cells": [
  {
   "cell_type": "code",
   "execution_count": 18,
   "metadata": {},
   "outputs": [],
   "source": [
    "import numpy as np\n",
    "from matplotlib import pyplot as plt"
   ]
  },
  {
   "cell_type": "code",
   "execution_count": 19,
   "metadata": {},
   "outputs": [],
   "source": [
    "import pickle\n",
    "import torch"
   ]
  },
  {
   "cell_type": "code",
   "execution_count": 20,
   "metadata": {},
   "outputs": [],
   "source": [
    "mpath = \"models/2023_05_05_inn_0001/\"\n",
    "mpath = \"models/2023_05_05_inn_0002/\"\n",
    "mpath = \"models/2023_05_05_inn_0003/\"\n",
    "\n",
    "device = torch.device(\"cuda:0\" if torch.cuda.is_available() else \"cpu\")\n",
    "device = \"cpu\"\n",
    "inn = pickle.load(open(mpath+\"parameters_obj.pkl\", 'rb'))\n",
    "\n",
    "inn.set_device(device)\n",
    "\n",
    "inn.loadmodel(mpath+\"model_state_dict.pt\")\n"
   ]
  },
  {
   "cell_type": "code",
   "execution_count": 21,
   "metadata": {},
   "outputs": [
    {
     "data": {
      "text/plain": [
       "<functions.inn.inn at 0x7f8e744c5580>"
      ]
     },
     "execution_count": 21,
     "metadata": {},
     "output_type": "execute_result"
    }
   ],
   "source": [
    "inn"
   ]
  },
  {
   "attachments": {},
   "cell_type": "markdown",
   "metadata": {},
   "source": [
    "# Load experimental data"
   ]
  },
  {
   "cell_type": "code",
   "execution_count": 22,
   "metadata": {},
   "outputs": [],
   "source": [
    "'''Example of experimental data\n",
    "\n",
    "Frequency[Hz]\tExperimental\n",
    "\n",
    "81.250\t0.24965\n",
    "82.812\t0.26412\n",
    "84.375\t0.28639\n",
    "85.937\t0.29087\n",
    "87.500\t0.28303\n",
    "89.062\t0.29861\n",
    "\n",
    "'''\n",
    "file_name_exp = \"data/abs.txt\"\n",
    "exp_data = np.loadtxt(file_name_exp,skiprows=1)\n",
    "\n",
    "# interpolate experimental data in frequency domain\n",
    "f_exp = exp_data[:,0]\n",
    "y_exp = exp_data[:,1]\n"
   ]
  },
  {
   "attachments": {},
   "cell_type": "markdown",
   "metadata": {},
   "source": [
    "### Interpolate data in frequency domain given by:  `params[\"data\"][\"f\"]`"
   ]
  },
  {
   "cell_type": "code",
   "execution_count": 23,
   "metadata": {},
   "outputs": [],
   "source": [
    "from scipy.ndimage.filters import gaussian_filter1d\n"
   ]
  },
  {
   "cell_type": "code",
   "execution_count": 24,
   "metadata": {},
   "outputs": [],
   "source": [
    "\n",
    "f_exp_interp = inn.get_freq()\n",
    "y_exp_interp = np.interp(f_exp_interp,f_exp,y_exp)\n",
    "# smooth experimental data\n",
    "y_exp_interp = gaussian_filter1d(y_exp_interp, sigma=0.5)"
   ]
  },
  {
   "cell_type": "code",
   "execution_count": 25,
   "metadata": {},
   "outputs": [],
   "source": [
    "rev_x,y_matrix_rev = inn.rev(y_exp_interp,10000)"
   ]
  },
  {
   "cell_type": "code",
   "execution_count": 31,
   "metadata": {},
   "outputs": [],
   "source": [
    "df = inn.numpy_to_dataframe(rev_x)"
   ]
  },
  {
   "cell_type": "code",
   "execution_count": 32,
   "metadata": {},
   "outputs": [
    {
     "data": {
      "text/html": [
       "<div>\n",
       "<style scoped>\n",
       "    .dataframe tbody tr th:only-of-type {\n",
       "        vertical-align: middle;\n",
       "    }\n",
       "\n",
       "    .dataframe tbody tr th {\n",
       "        vertical-align: top;\n",
       "    }\n",
       "\n",
       "    .dataframe thead th {\n",
       "        text-align: right;\n",
       "    }\n",
       "</style>\n",
       "<table border=\"1\" class=\"dataframe\">\n",
       "  <thead>\n",
       "    <tr style=\"text-align: right;\">\n",
       "      <th></th>\n",
       "      <th>LT/LV</th>\n",
       "      <th>LCT</th>\n",
       "      <th>tort</th>\n",
       "      <th>sig</th>\n",
       "      <th>porous</th>\n",
       "      <th>rho</th>\n",
       "      <th>E</th>\n",
       "    </tr>\n",
       "  </thead>\n",
       "  <tbody>\n",
       "    <tr>\n",
       "      <th>0</th>\n",
       "      <td>2.401835</td>\n",
       "      <td>0.000268</td>\n",
       "      <td>6.895967</td>\n",
       "      <td>48664.989775</td>\n",
       "      <td>0.902987</td>\n",
       "      <td>245.607278</td>\n",
       "      <td>5.367789e+10</td>\n",
       "    </tr>\n",
       "    <tr>\n",
       "      <th>1</th>\n",
       "      <td>2.399485</td>\n",
       "      <td>0.000294</td>\n",
       "      <td>6.917129</td>\n",
       "      <td>47329.235881</td>\n",
       "      <td>0.916399</td>\n",
       "      <td>267.425960</td>\n",
       "      <td>6.164968e+10</td>\n",
       "    </tr>\n",
       "    <tr>\n",
       "      <th>2</th>\n",
       "      <td>2.676804</td>\n",
       "      <td>0.000219</td>\n",
       "      <td>6.390086</td>\n",
       "      <td>49743.050087</td>\n",
       "      <td>0.907581</td>\n",
       "      <td>242.433678</td>\n",
       "      <td>8.689245e+10</td>\n",
       "    </tr>\n",
       "    <tr>\n",
       "      <th>3</th>\n",
       "      <td>2.759406</td>\n",
       "      <td>0.000237</td>\n",
       "      <td>6.328629</td>\n",
       "      <td>45551.193758</td>\n",
       "      <td>0.931217</td>\n",
       "      <td>339.613137</td>\n",
       "      <td>1.005175e+11</td>\n",
       "    </tr>\n",
       "    <tr>\n",
       "      <th>4</th>\n",
       "      <td>2.509836</td>\n",
       "      <td>0.000249</td>\n",
       "      <td>6.647846</td>\n",
       "      <td>47823.014201</td>\n",
       "      <td>0.902093</td>\n",
       "      <td>250.377106</td>\n",
       "      <td>4.488232e+10</td>\n",
       "    </tr>\n",
       "    <tr>\n",
       "      <th>...</th>\n",
       "      <td>...</td>\n",
       "      <td>...</td>\n",
       "      <td>...</td>\n",
       "      <td>...</td>\n",
       "      <td>...</td>\n",
       "      <td>...</td>\n",
       "      <td>...</td>\n",
       "    </tr>\n",
       "    <tr>\n",
       "      <th>9995</th>\n",
       "      <td>2.934412</td>\n",
       "      <td>0.000292</td>\n",
       "      <td>6.987436</td>\n",
       "      <td>46166.929071</td>\n",
       "      <td>0.937915</td>\n",
       "      <td>254.772399</td>\n",
       "      <td>5.904586e+10</td>\n",
       "    </tr>\n",
       "    <tr>\n",
       "      <th>9996</th>\n",
       "      <td>2.697049</td>\n",
       "      <td>0.000237</td>\n",
       "      <td>6.575558</td>\n",
       "      <td>45118.144680</td>\n",
       "      <td>0.913025</td>\n",
       "      <td>255.652799</td>\n",
       "      <td>5.006393e+10</td>\n",
       "    </tr>\n",
       "    <tr>\n",
       "      <th>9997</th>\n",
       "      <td>2.794185</td>\n",
       "      <td>0.000255</td>\n",
       "      <td>6.438090</td>\n",
       "      <td>46884.774249</td>\n",
       "      <td>0.903355</td>\n",
       "      <td>274.050055</td>\n",
       "      <td>8.139298e+10</td>\n",
       "    </tr>\n",
       "    <tr>\n",
       "      <th>9998</th>\n",
       "      <td>2.496396</td>\n",
       "      <td>0.000278</td>\n",
       "      <td>7.122612</td>\n",
       "      <td>48589.701790</td>\n",
       "      <td>0.910607</td>\n",
       "      <td>251.657043</td>\n",
       "      <td>1.289796e+10</td>\n",
       "    </tr>\n",
       "    <tr>\n",
       "      <th>9999</th>\n",
       "      <td>2.542666</td>\n",
       "      <td>0.000207</td>\n",
       "      <td>6.421020</td>\n",
       "      <td>47472.394541</td>\n",
       "      <td>0.889012</td>\n",
       "      <td>300.853889</td>\n",
       "      <td>4.156987e+10</td>\n",
       "    </tr>\n",
       "  </tbody>\n",
       "</table>\n",
       "<p>10000 rows × 7 columns</p>\n",
       "</div>"
      ],
      "text/plain": [
       "         LT/LV       LCT      tort           sig    porous         rho  \\\n",
       "0     2.401835  0.000268  6.895967  48664.989775  0.902987  245.607278   \n",
       "1     2.399485  0.000294  6.917129  47329.235881  0.916399  267.425960   \n",
       "2     2.676804  0.000219  6.390086  49743.050087  0.907581  242.433678   \n",
       "3     2.759406  0.000237  6.328629  45551.193758  0.931217  339.613137   \n",
       "4     2.509836  0.000249  6.647846  47823.014201  0.902093  250.377106   \n",
       "...        ...       ...       ...           ...       ...         ...   \n",
       "9995  2.934412  0.000292  6.987436  46166.929071  0.937915  254.772399   \n",
       "9996  2.697049  0.000237  6.575558  45118.144680  0.913025  255.652799   \n",
       "9997  2.794185  0.000255  6.438090  46884.774249  0.903355  274.050055   \n",
       "9998  2.496396  0.000278  7.122612  48589.701790  0.910607  251.657043   \n",
       "9999  2.542666  0.000207  6.421020  47472.394541  0.889012  300.853889   \n",
       "\n",
       "                 E  \n",
       "0     5.367789e+10  \n",
       "1     6.164968e+10  \n",
       "2     8.689245e+10  \n",
       "3     1.005175e+11  \n",
       "4     4.488232e+10  \n",
       "...            ...  \n",
       "9995  5.904586e+10  \n",
       "9996  5.006393e+10  \n",
       "9997  8.139298e+10  \n",
       "9998  1.289796e+10  \n",
       "9999  4.156987e+10  \n",
       "\n",
       "[10000 rows x 7 columns]"
      ]
     },
     "execution_count": 32,
     "metadata": {},
     "output_type": "execute_result"
    }
   ],
   "source": [
    "df"
   ]
  }
 ],
 "metadata": {
  "kernelspec": {
   "display_name": "Python 3",
   "language": "python",
   "name": "python3"
  },
  "language_info": {
   "codemirror_mode": {
    "name": "ipython",
    "version": 3
   },
   "file_extension": ".py",
   "mimetype": "text/x-python",
   "name": "python",
   "nbconvert_exporter": "python",
   "pygments_lexer": "ipython3",
   "version": "3.9.16"
  },
  "orig_nbformat": 4
 },
 "nbformat": 4,
 "nbformat_minor": 2
}
